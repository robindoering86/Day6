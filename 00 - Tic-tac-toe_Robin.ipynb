{
 "cells": [
  {
   "cell_type": "code",
   "execution_count": null,
   "metadata": {},
   "outputs": [],
   "source": [
    "import re\n",
    "rows = [[(0, 0), (1, 0), (2, 0)], [(0, 1), (1, 1), (2, 1)], [(0, 2), (1, 2), (2, 2)]]\n",
    "count = 1\n",
    "while count <= 9:\n",
    "\n",
    "    active_player = 'O' if count%2 != 0 else 'X'\n",
    "    for row in rows:\n",
    "        print(row)\n",
    "    msg = input('Player ( {} ), where will you play?\\n\\n\\n'.format(active_player))\n",
    "    exp = \"[0-2{2}]\"\n",
    "    board_ind = re.findall(exp, msg)\n",
    "    first, second = int(board_ind[0]), int(board_ind[1])\n",
    "\n",
    "    if (first, second) in rows[second]:\n",
    "        rows[second][first] = active_player\n",
    "        count += 1\n",
    "    else:\n",
    "        print('That square has already been played in. Try again.')\n",
    "        continue\n",
    "    \n",
    "    cols = [[rows[i][j] for i in range(len(rows))] for j in range(len(rows))]\n",
    "    diag1 = [rows[0][0], rows[1][1], rows[2][2]]\n",
    "    diag2 = [rows[2][0], rows[1][1], rows[0][2]]\n",
    "        \n",
    "    col_set = [len(set(x)) for x in cols]\n",
    "    row_set = [len(set(x)) for x in rows]\n",
    "    diag_set = [len(set(diag1)), len(set(diag2))]\n",
    "\n",
    "    if (1 in col_set or 1 in row_set or 1 in diag_set):\n",
    "        print('Player ({}) has WON!'.format(active_player))\n",
    "        break\n",
    "    \n",
    "    if count == 9:\n",
    "        print('No player has won!')\n",
    "        break\n"
   ]
  }
 ],
 "metadata": {
  "kernelspec": {
   "display_name": "Python [conda env:nf] *",
   "language": "python",
   "name": "conda-env-nf-py"
  },
  "language_info": {
   "codemirror_mode": {
    "name": "ipython",
    "version": 3
   },
   "file_extension": ".py",
   "mimetype": "text/x-python",
   "name": "python",
   "nbconvert_exporter": "python",
   "pygments_lexer": "ipython3",
   "version": "3.6.6"
  }
 },
 "nbformat": 4,
 "nbformat_minor": 2
}
